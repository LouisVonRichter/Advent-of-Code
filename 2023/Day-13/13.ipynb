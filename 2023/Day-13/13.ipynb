{
 "cells": [
  {
   "cell_type": "code",
   "execution_count": 2,
   "metadata": {},
   "outputs": [
    {
     "name": "stdout",
     "output_type": "stream",
     "text": [
      "Solution: 1100\n"
     ]
    }
   ],
   "source": [
    "from utils import read_multisection_input\n",
    "\n",
    "\n",
    "def transformer(section):\n",
    "    return section.split('\\n')\n",
    "\n",
    "\n",
    "grids = read_multisection_input(13, [transformer])\n",
    "\n",
    "\n",
    "def is_mirror_line(grid, line):\n",
    "    up = line-1\n",
    "    down = line\n",
    "\n",
    "    while up >= 0 and down < len(grid):\n",
    "        if grid[up] != grid[down]:\n",
    "            return False\n",
    "        up -= 1\n",
    "        down += 1\n",
    "    return True\n",
    "\n",
    "\n",
    "def find_reflection_point(grid):\n",
    "    for y in range(1, len(grid)):\n",
    "        if is_mirror_line(grid, y):\n",
    "            return 100 * y\n",
    "\n",
    "    transposed = list(zip(*grid))\n",
    "    for x in range(1, len(transposed)):\n",
    "        if is_mirror_line(transposed, x):\n",
    "            return x\n",
    "\n",
    "    return None\n",
    "\n",
    "\n",
    "part_1 = 0\n",
    "reflection_points = {}\n",
    "for i, grid in enumerate(grids):\n",
    "    reflection_point = find_reflection_point(grid)\n",
    "    reflection_points[i] = reflection_point\n",
    "    part_1 += reflection_point\n",
    "\n",
    "print(f'Solution: {part_1}')\n"
   ]
  }
 ],
 "metadata": {
  "kernelspec": {
   "display_name": "base",
   "language": "python",
   "name": "python3"
  },
  "language_info": {
   "codemirror_mode": {
    "name": "ipython",
    "version": 3
   },
   "file_extension": ".py",
   "mimetype": "text/x-python",
   "name": "python",
   "nbconvert_exporter": "python",
   "pygments_lexer": "ipython3",
   "version": "3.9.18"
  },
  "orig_nbformat": 4
 },
 "nbformat": 4,
 "nbformat_minor": 2
}
